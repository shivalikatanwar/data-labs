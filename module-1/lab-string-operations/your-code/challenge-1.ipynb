{
 "cells": [
  {
   "cell_type": "markdown",
   "metadata": {},
   "source": [
    "# String Operations Lab\n",
    "\n",
    "**Before your start:**\n",
    "\n",
    "- Read the README.md file\n",
    "- Comment as much as you can and use the resources in the README.md file\n",
    "- Happy learning!"
   ]
  },
  {
   "cell_type": "code",
   "execution_count": 1,
   "metadata": {},
   "outputs": [],
   "source": [
    "import re"
   ]
  },
  {
   "cell_type": "markdown",
   "metadata": {},
   "source": [
    "# Challenge 1 - Combining Strings\n",
    "\n",
    "Combining strings is an important skill to acquire. There are multiple ways of combining strings in Python, as well as combining strings with variables. We will explore this in the first challenge. In the cell below, combine the strings in the list and add spaces between the strings (do not add a space after the last string). Insert a period after the last string."
   ]
  },
  {
   "cell_type": "code",
   "execution_count": 2,
   "metadata": {},
   "outputs": [
    {
     "data": {
      "text/plain": [
       "'Durante un tiempo no estuvo segura de si su marido era su marido.'"
      ]
     },
     "execution_count": 2,
     "metadata": {},
     "output_type": "execute_result"
    }
   ],
   "source": [
    "str_list = ['Durante', 'un', 'tiempo', 'no', 'estuvo', 'segura', 'de', 'si', 'su', 'marido', 'era', 'su', 'marido']\n",
    "\" \".join(str_list)+\".\""
   ]
  },
  {
   "cell_type": "markdown",
   "metadata": {},
   "source": [
    "In the cell below, use the list of strings to create a grocery list. Start the list with the string `Grocery list: ` and include a comma and a space between each item except for the last one. Include a period at the end. Only include foods in the list that start with the letter 'b' and ensure all foods are lower case."
   ]
  },
  {
   "cell_type": "code",
   "execution_count": 3,
   "metadata": {},
   "outputs": [
    {
     "name": "stdout",
     "output_type": "stream",
     "text": [
      "Grocery list: bananas , bread , brownie mix , broccoli.\n"
     ]
    }
   ],
   "source": [
    "food_list = ['Bananas', 'Chocolate', 'bread', 'diapers', 'Ice Cream', 'Brownie Mix', 'broccoli']\n",
    "# Your code here:\n",
    "Grocery_list=['Grocery list:']\n",
    "#qq=[]\n",
    "for i in food_list:\n",
    "    a=i.lower()\n",
    "    if a.startswith('b'):\n",
    "        Grocery_list.append(a)\n",
    "        Grocery_list.append(',')\n",
    "\n",
    "del Grocery_list[-1]        \n",
    "\n",
    "print(\" \".join(Grocery_list)+\".\")"
   ]
  },
  {
   "cell_type": "code",
   "execution_count": 4,
   "metadata": {},
   "outputs": [
    {
     "name": "stdout",
     "output_type": "stream",
     "text": [
      "Grocery list: \n",
      "bananas;\n",
      "bread;\n",
      "brownie mix;\n",
      "broccoli.\n"
     ]
    }
   ],
   "source": [
    "# by the teacher\n",
    "#by list comprehension\n",
    "Grocery_list='Grocery list: \\n'+';\\n'.join([i.lower()for i in food_list if i.lower().startswith('b')])+'.'\n",
    "\n",
    "print(Grocery_list)"
   ]
  },
  {
   "cell_type": "code",
   "execution_count": 5,
   "metadata": {},
   "outputs": [
    {
     "name": "stdout",
     "output_type": "stream",
     "text": [
      "Grocery list:\n",
      "bananas;\n",
      "bread;\n",
      "brownie mix;\n",
      "broccoli.\n"
     ]
    }
   ],
   "source": [
    "food_list=[i.lower() for i in food_list]\n",
    "string='Grocery list:\\n'+';\\n'.join([i for i in food_list if i.startswith('b')])+'.'\n",
    "print(string)"
   ]
  },
  {
   "cell_type": "markdown",
   "metadata": {},
   "source": [
    "In the cell below, write a function that computes the area of a circle using its radius. Compute the area of the circle and insert the radius and the area between the two strings. Make sure to include spaces between the variable and the strings. \n",
    "\n",
    "Note: You can use the techniques we have learned so far or use f-strings. F-strings allow us to embed code inside strings. You can read more about f-strings [here](https://www.python.org/dev/peps/pep-0498/)."
   ]
  },
  {
   "cell_type": "code",
   "execution_count": 8,
   "metadata": {},
   "outputs": [
    {
     "name": "stdout",
     "output_type": "stream",
     "text": [
      "The area of the circle with radius: 4.5 is: 63.61725123519331\n"
     ]
    }
   ],
   "source": [
    "import math\n",
    "\n",
    "string1 = \"The area of the circle with radius:\"\n",
    "string2  = \"is:\"\n",
    "radius = 4.5\n",
    "\n",
    "def area(x, pi = math.pi):\n",
    "    a=pi*x*x\n",
    "    return(a)\n",
    "area_of_circle=area(radius)   \n",
    "    \n",
    "print(f'{string1} {radius} {string2} {area_of_circle}')"
   ]
  },
  {
   "cell_type": "markdown",
   "metadata": {},
   "source": [
    "# Challenge 2 - Splitting Strings\n",
    "\n",
    "We have first looked at combining strings into one long string. There are times where we need to do the opposite and split the string into smaller components for further analysis. \n",
    "\n",
    "In the cell below, split the string into a list of strings using the space delimiter. Count the frequency of each word in the string in a dictionary. Strip the periods, line breaks and commas from the text. Make sure to remove empty strings from your dictionary."
   ]
  },
  {
   "cell_type": "code",
   "execution_count": 9,
   "metadata": {},
   "outputs": [
    {
     "name": "stdout",
     "output_type": "stream",
     "text": [
      "{'Some': 2, 'say': 3, 'the': 1, 'world': 1, 'will': 1, 'end': 1, 'in': 2, 'fire': 2, 'ice': 1, 'From': 1, 'what': 1, 'I’ve': 1, 'tasted': 1, 'of': 2, 'desireI': 1, 'hold': 1, 'with': 1, 'those': 1, 'who': 1, 'favor': 1, 'But': 1, 'if': 1, 'it': 1, 'had': 1, 'to': 1, 'perish': 1, 'twice': 1, 'I': 2, 'think': 1, 'know': 1, 'enough': 1, 'hateTo': 1, 'that': 1, 'for': 1, 'destruction': 1, 'iceIs': 1, 'also': 1, 'greatAnd': 1, 'would': 1, 'suffice': 1}\n"
     ]
    }
   ],
   "source": [
    "poem = \"\"\"Some say the world will end in fire,\n",
    "Some say in ice.\n",
    "From what I’ve tasted of desire\n",
    "I hold with those who favor fire.\n",
    "But if it had to perish twice,\n",
    "I think I know enough of hate\n",
    "To say that for destruction ice\n",
    "Is also great\n",
    "And would suffice.\"\"\"\n",
    "\n",
    "updated_poem=poem.replace(\"\\n\",\"\").replace(\",\",\" \").replace(\".\",\" \")\n",
    "\n",
    "poem_list=updated_poem.split(\" \")\n",
    "dict_poem={}\n",
    "for i in poem_list:\n",
    "    dict_poem.update({i:poem_list.count(i)})\n",
    "      \n",
    "del dict_poem['']\n",
    "\n",
    "print(dict_poem)    "
   ]
  },
  {
   "cell_type": "code",
   "execution_count": 10,
   "metadata": {},
   "outputs": [
    {
     "name": "stdout",
     "output_type": "stream",
     "text": [
      "['some', 'say', 'the', 'world', 'will', 'end', 'in', 'fire', 'some', 'say', 'in', 'ice', 'from', 'what', 'i’ve', 'tasted', 'of', 'desire', 'i', 'hold', 'with', 'those', 'who', 'favor', 'fire', 'but', 'if', 'it', 'had', 'to', 'perish', 'twice', 'i', 'think', 'i', 'know', 'enough', 'of', 'hate', 'to', 'say', 'that', 'for', 'destruction', 'ice', 'is', 'also', 'great', 'and', 'would', 'suffice']\n",
      "['some', 'say', 'the', 'world', 'will', 'end', 'in', 'fire', 'some', 'say', 'in', 'ice', 'from', 'what', 'i’ve', 'tasted', 'of', 'desire', 'i', 'hold', 'with', 'those', 'who', 'favor', 'fire', 'but', 'if', 'it', 'had', 'to', 'perish', 'twice', 'i', 'think', 'i', 'know', 'enough', 'of', 'hate', 'to', 'say', 'that', 'for', 'destruction', 'ice', 'is', 'also', 'great', 'and', 'would', 'suffice']\n",
      "{'what': 1, 'say': 3, 'great': 1, 'it': 1, 'if': 1, 'for': 1, 'i': 3, 'fire': 2, 'think': 1, 'that': 1, 'suffice': 1, 'ice': 2, 'desire': 1, 'favor': 1, 'had': 1, 'hate': 1, 'perish': 1, 'some': 2, 'will': 1, 'with': 1, 'is': 1, 'from': 1, 'the': 1, 'to': 2, 'would': 1, 'world': 1, 'in': 2, 'but': 1, 'twice': 1, 'hold': 1, 'destruction': 1, 'of': 2, 'enough': 1, 'end': 1, 'i’ve': 1, 'tasted': 1, 'those': 1, 'also': 1, 'know': 1, 'and': 1, 'who': 1}\n",
      "{'what': 1, 'say': 3, 'great': 1, 'it': 1, 'if': 1, 'for': 1, 'i': 3, 'fire': 2, 'think': 1, 'that': 1, 'suffice': 1, 'ice': 2, 'desire': 1, 'favor': 1, 'had': 1, 'hate': 1, 'perish': 1, 'some': 2, 'will': 1, 'with': 1, 'is': 1, 'from': 1, 'the': 1, 'to': 2, 'would': 1, 'world': 1, 'in': 2, 'but': 1, 'twice': 1, 'hold': 1, 'destruction': 1, 'of': 2, 'enough': 1, 'end': 1, 'i’ve': 1, 'tasted': 1, 'those': 1, 'also': 1, 'know': 1, 'and': 1, 'who': 1}\n"
     ]
    }
   ],
   "source": [
    "poem_split=poem.split()\n",
    "qq=[]\n",
    "for i in poem_split:\n",
    "    i=i.strip(',.\\n\\t ! \\\"&').lower()\n",
    "    qq.append(i)\n",
    "print(qq)\n",
    "\n",
    "#list comprehension\n",
    "print([i.strip(',.\\n\\t ! \\\"&').lower() for i in poem_split])\n",
    "    \n",
    "qq_s=set(qq)\n",
    "dict_poem={}\n",
    "\n",
    "for i in qq_s:\n",
    "    #dict_poem.update({i:qq.count(i)})\n",
    "    dict_poem[i]=qq.count(i)\n",
    "    \n",
    "    \n",
    "    \n",
    "print(dict_poem)\n",
    "        \n",
    "\n",
    "print({i:qq.count(i) for i in set(qq)})\n"
   ]
  },
  {
   "cell_type": "markdown",
   "metadata": {},
   "source": [
    "In the cell below, find all the words that appear in the text and do not appear in the blacklist. You must parse the string but can choose any data structure you wish for the words that do not appear in the blacklist. Remove all non letter characters and convert all words to lower case."
   ]
  },
  {
   "cell_type": "code",
   "execution_count": 11,
   "metadata": {},
   "outputs": [
    {
     "name": "stdout",
     "output_type": "stream",
     "text": [
      "{'smiles': 1, 'he': 1, 'when': 1, 'veild': 1, 'see': 1, 'mine': 1, 'grew': 1, 'shine': 1, 'pole': 1, 'tree': 1, 'i': 7, 'that': 1, 'beneath': 1, 'into': 1, 'told': 2, 'had': 1, 'was': 3, 'outstretched': 1, 'with': 5, 'soft': 1, 'fears': 1, 'grow': 1, '&': 1, 'friend': 1, 'my': 9, 'foe': 3, 'both': 1, 'bore': 1, 'garden': 1, 'day': 1, 'wrath': 3, 'sunned': 1, 'till': 1, 'stole': 1, 'beheld': 1, 'deceitful': 1, 'angry': 2, 'glad': 1, 'did': 2, 'night': 3, 'wiles': 1, 'apple': 1, 'end': 1, 'tears': 1, 'bright': 1, 'waterd': 1, 'knew': 1, 'not': 1, 'morning': 2}\n"
     ]
    }
   ],
   "source": [
    "blacklist = ['and', 'as', 'an', 'a', 'the', 'in', 'it']\n",
    "\n",
    "poem = \"\"\"I was angry with my friend; \n",
    "I told my wrath, my wrath did end.\n",
    "I was angry with my foe: \n",
    "I told it not, my wrath did grow. \n",
    "\n",
    "And I waterd it in fears,\n",
    "Night & morning with my tears: \n",
    "And I sunned it with smiles,\n",
    "And with soft deceitful wiles. \n",
    "\n",
    "And it grew both day and night. .\n",
    "Till it bore an apple bright. \n",
    "And my foe beheld it shine,\n",
    "And he knew that it was mine. \n",
    "\n",
    "And into my garden stole, \n",
    "When the night had veild the pole; \n",
    "In the morning glad I see; \n",
    "My foe outstretched beneath the tree.\"\"\"\n",
    "\n",
    "dict_poem={}\n",
    "updated_poem=poem.replace(\"\\n\",\"\").replace(\",\",\" \").replace(\".\",\" \").replace(\";\",\" \").replace(\":\",\" \")\n",
    "updated_poem=updated_poem.lower()\n",
    "\n",
    "poem_list=updated_poem.split(\" \")\n",
    "\n",
    "\n",
    "\n",
    "new_set=set(poem_list)-set(blacklist)\n",
    "\n",
    "for i in new_set:\n",
    "    dict_poem.update({i:poem_list.count(i)})\n",
    "    \n",
    "del dict_poem[''] \n",
    "\n",
    "print(dict_poem)"
   ]
  },
  {
   "cell_type": "code",
   "execution_count": 12,
   "metadata": {},
   "outputs": [
    {
     "name": "stdout",
     "output_type": "stream",
     "text": [
      "{'': 2, 'smiles': 1, 'he': 1, 'when': 1, 'veild': 1, 'see': 1, 'mine': 1, 'grew': 1, 'shine': 1, 'it': 7, 'pole': 1, 'tree': 1, 'i': 7, 'that': 1, 'beneath': 1, 'into': 1, 'told': 2, 'had': 1, 'was': 3, 'outstretched': 1, 'with': 5, 'soft': 1, 'fears': 1, 'grow': 1, 'garden': 1, 'friend': 1, 'my': 9, 'foe': 3, 'both': 1, 'bore': 1, 'the': 4, 'day': 1, 'wrath': 3, 'sunned': 1, 'till': 1, 'stole': 1, 'beheld': 1, 'deceitful': 1, 'an': 1, 'angry': 2, 'in': 2, 'glad': 1, 'did': 2, 'night': 3, 'wiles': 1, 'apple': 1, 'end': 1, 'tears': 1, 'bright': 1, 'waterd': 1, 'knew': 1, 'and': 8, 'not': 1, 'morning': 2} 54\n",
      "{'smiles', 'he', 'when', 'see', 'veild', 'mine', 'grew', 'shine', 'pole', 'tree', 'i', 'that', 'beneath', 'into', 'told', 'had', 'was', 'outstretched', 'with', 'soft', 'fears', 'grow', 'garden', 'friend', 'my', 'foe', 'both', 'bore', 'day', 'wrath', 'sunned', 'till', 'stole', 'beheld', 'deceitful', 'angry', 'glad', 'did', 'night', 'wiles', 'apple', 'end', 'tears', 'bright', 'waterd', 'knew', 'not', 'morning'}\n"
     ]
    }
   ],
   "source": [
    "poem_split=poem.split()\n",
    "qq=[]\n",
    "for i in poem_split:\n",
    "    i=i.strip(',.\\n\\t\\'\\' ! \\\"&:;').lower()\n",
    "    qq.append(i)\n",
    "\n",
    "\n",
    "#list comprehension\n",
    "#print([i.strip(',.\\n\\t ! \\\"&').lower() for i in poem_split])\n",
    "    \n",
    "qq_s=set(qq)\n",
    "dict_poem={}\n",
    "\n",
    "for i in qq_s:\n",
    "    dict_poem.update({i:qq.count(i)})\n",
    "print(dict_poem,len(dict_poem))\n",
    "    #dict_poem[i]=qq.count(i)\n",
    "del dict_poem['']  \n",
    "new_set=set(dict_poem)-set(blacklist)\n",
    "print(new_set)\n"
   ]
  },
  {
   "cell_type": "markdown",
   "metadata": {},
   "source": [
    "# Challenge 3 - Regular Expressions\n",
    "\n",
    "Sometimes, we would like to perform more complex manipulations of our string. This is where regular expressions come in handy. In the cell below, return all characters that are upper case from the string specified below."
   ]
  },
  {
   "cell_type": "code",
   "execution_count": 13,
   "metadata": {},
   "outputs": [
    {
     "data": {
      "text/plain": [
       "['T', 'P']"
      ]
     },
     "execution_count": 13,
     "metadata": {},
     "output_type": "execute_result"
    }
   ],
   "source": [
    "poem = \"\"\"The apparition of these faces in the crowd;\n",
    "Petals on a wet, black bough.\"\"\"\n",
    "x = re.findall(\"[A-Z]\", poem)\n",
    "x"
   ]
  },
  {
   "cell_type": "markdown",
   "metadata": {},
   "source": [
    "In the cell below, filter the list provided and return all elements of the list containing a number. To filter the list, use the `re.search` function. Check if the function does not return `None`. You can read more about the `re.search` function [here](https://docs.python.org/3/library/re.html)."
   ]
  },
  {
   "cell_type": "code",
   "execution_count": 14,
   "metadata": {},
   "outputs": [
    {
     "name": "stdout",
     "output_type": "stream",
     "text": [
      "['123abc', 'abc123', 'JohnSmith1', 'ABBY4']\n"
     ]
    }
   ],
   "source": [
    "data = ['123abc', 'abc123', 'JohnSmith1', 'ABBY4', 'JANE']\n",
    "data_list=[]\n",
    "# Your code here:\n",
    "for i in data:\n",
    "    a = re.search(\"[0-9]\",i)\n",
    "    if a!= None:\n",
    "        data_list.append(i)\n",
    "\n",
    "print (data_list)  "
   ]
  },
  {
   "cell_type": "markdown",
   "metadata": {},
   "source": [
    "# Bonus Challenge - Regular Expressions II\n",
    "\n",
    "In the cell below, filter the list provided to keep only strings containing at least one digit and at least one lower case letter. As in the previous question, use the `re.search` function and check that the result is not `None`.\n",
    "\n",
    "To read more about regular expressions, check out [this link](https://developers.google.com/edu/python/regular-expressions)."
   ]
  },
  {
   "cell_type": "code",
   "execution_count": 16,
   "metadata": {},
   "outputs": [
    {
     "name": "stdout",
     "output_type": "stream",
     "text": [
      "['123abc', 'abc123', 'JohnSmith1']\n"
     ]
    }
   ],
   "source": [
    "data = ['123abc', 'abc123', 'JohnSmith1', 'ABBY4', 'JANE']\n",
    "data_list=[]\n",
    "\n",
    "for i in data:\n",
    "    a = re.search(\"[0-9]*[a-z]\",i) \n",
    "    if a!= None:\n",
    "        data_list.append(i)\n",
    "        \n",
    "print(data_list)"
   ]
  }
 ],
 "metadata": {
  "kernelspec": {
   "display_name": "Python 3",
   "language": "python",
   "name": "python3"
  },
  "language_info": {
   "codemirror_mode": {
    "name": "ipython",
    "version": 3
   },
   "file_extension": ".py",
   "mimetype": "text/x-python",
   "name": "python",
   "nbconvert_exporter": "python",
   "pygments_lexer": "ipython3",
   "version": "3.7.3"
  }
 },
 "nbformat": 4,
 "nbformat_minor": 2
}
